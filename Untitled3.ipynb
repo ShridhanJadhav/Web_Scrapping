{
 "cells": [
  {
   "cell_type": "code",
   "execution_count": 1,
   "id": "be1e333a",
   "metadata": {},
   "outputs": [],
   "source": [
    "import numpy as np\n",
    "import pandas as pd\n",
    "import requests\n",
    "import re\n",
    "from bs4 import BeautifulSoup\n"
   ]
  },
  {
   "cell_type": "code",
   "execution_count": 2,
   "id": "988fd227",
   "metadata": {},
   "outputs": [],
   "source": [
    "url = 'https://www.magicbricks.com/pg-in-hyderabad-pppfr/page-1'\n",
    "\n",
    "page = requests.get(url)\n",
    "soup = BeautifulSoup(page.text)"
   ]
  },
  {
   "cell_type": "code",
   "execution_count": 42,
   "id": "fdae42b0",
   "metadata": {},
   "outputs": [],
   "source": [
    "PG_Names=[]\n",
    "Location = []\n",
    "Gender = []\n",
    "Single_Room = []\n",
    "Twin_Sharing = []\n",
    "Triple_Sharing = []\n",
    "Four_Sharing = []\n",
    "Food = []\n",
    "for i in range(1, 36):\n",
    "    url = f'https://www.magicbricks.com/pg-in-hyderabad-pppfr/page-{i}'\n",
    "\n",
    "    page = requests.get(url)\n",
    "    soup = BeautifulSoup(page.text)\n",
    "    #soup = soup.prettyfy\n",
    "    #print(soup)\n",
    "    #for i in soup.find_all('div', class_ =  ['m-srp-card clearfix','m-srp-card clearfix newLaunched', 'm-srp-card verified-border clearfix']):\n",
    "        #display_price.append(i.find('div', class_ = 'm-srp-card__price').text)\n",
    "        \n",
    "    #for i in soup.find_all('div', class_ =  ['m-srp-card clearfix','m-srp-card clearfix newLaunched', 'm-srp-card verified-border clearfix']):\n",
    "        #sharing_price.append(i.find('div', class_ = 'm-srp-card__roomInfo').text)\n",
    "        \n",
    "    for i in soup.find_all('div', class_ =  ['m-srp-card clearfix','m-srp-card clearfix newLaunched', 'm-srp-card verified-border clearfix']):\n",
    "        \n",
    "        room = i.find('div', class_ = 'm-srp-card__roomInfo').text\n",
    "        \n",
    "        regex = re.findall('Single Room(?: With AC)? ₹(\\d+,\\d+)', room)\n",
    "        if regex:\n",
    "            Single_Room.append(regex[0])\n",
    "        else:\n",
    "            Single_Room.append(np.nan)\n",
    "        \n",
    "        regex = re.findall('Twin Sharing(?: With AC)? ₹(\\d+,\\d+)', room)\n",
    "        if regex:\n",
    "            Twin_Sharing.append(regex[0])\n",
    "        else:\n",
    "            Twin_Sharing.append(np.nan)\n",
    "        \n",
    "        regex=re.findall('Triple Sharing(?: With AC)? ₹(\\d+,\\d+)', room)\n",
    "        if regex:\n",
    "            Triple_Sharing.append(regex[0])\n",
    "        else:\n",
    "            Triple_Sharing.append(np.nan)\n",
    "\n",
    "        regex=re.findall('Four Sharing(?: With AC)? ₹(\\d+,\\d+)', room)\n",
    "        if regex:\n",
    "            Four_Sharing.append(regex[0])\n",
    "        else:\n",
    "            Four_Sharing.append(np.nan)\n",
    "    \n",
    "    for i in soup.find_all('div', class_ = ['m-srp-card clearfix','m-srp-card clearfix newLaunched', 'm-srp-card verified-border clearfix']):\n",
    "        name = i.find('span', class_ = 'm-srp-card__title__name').text\n",
    "\n",
    "        regex = re.findall('(.+)\\sPG', name)\n",
    "        if regex:\n",
    "            PG_Names.append(regex[0])\n",
    "        else:\n",
    "            PG_Names.append(np.nan)\n",
    "    \n",
    "    for i in soup.find_all('div', class_ = ['m-srp-card clearfix','m-srp-card clearfix newLaunched', 'm-srp-card verified-border clearfix']):\n",
    "        location = i.find('div', class_ = 'm-srp-card__link m-srp-card__link--nearby').text\n",
    "        \n",
    "        loc = location.split(\",\")[0]\n",
    "        regex = re.findall('\\sin(.+)', loc)\n",
    "        if regex:\n",
    "            Location.append(regex[0])\n",
    "        else:\n",
    "            Location.append(np.nan)\n",
    "            \n",
    "    for i in soup.find_all('div', class_ = ['m-srp-card clearfix','m-srp-card clearfix newLaunched', 'm-srp-card verified-border clearfix']):\n",
    "        \n",
    "        gender = i.find('span', class_ = 'm-srp-card__info__gender m-srp-card__info__gender-boys') or i.find('span','m-srp-card__info__gender m-srp-card__info__gender-girls') or i.find('span', 'm-srp-card__info__gender m-srp-card__info__gender-coed')\n",
    "        \n",
    "        if gender:\n",
    "            Gender.append(gender.text)\n",
    "        else:\n",
    "            Gender.append(np.nan)\n",
    "\n",
    "    for i in soup.find_all('div', class_ =  ['m-srp-card clearfix','m-srp-card clearfix newLaunched', 'm-srp-card verified-border clearfix']):\n",
    "        food = i.find('span', class_ = 'm-srp-card__for__item')\n",
    "        \n",
    "        if food:\n",
    "            Food.append(food.text)\n",
    "        else:\n",
    "            Food.append(np.nan)\n",
    " \n",
    "            \n"
   ]
  },
  {
   "cell_type": "code",
   "execution_count": null,
   "id": "de9551ef",
   "metadata": {},
   "outputs": [],
   "source": []
  },
  {
   "cell_type": "code",
   "execution_count": null,
   "id": "51c77764",
   "metadata": {},
   "outputs": [],
   "source": []
  },
  {
   "cell_type": "code",
   "execution_count": 44,
   "id": "53fd2047",
   "metadata": {},
   "outputs": [
    {
     "data": {
      "text/plain": [
       "1031"
      ]
     },
     "execution_count": 44,
     "metadata": {},
     "output_type": "execute_result"
    }
   ],
   "source": [
    "len(Location)"
   ]
  },
  {
   "cell_type": "code",
   "execution_count": 45,
   "id": "2409dc29",
   "metadata": {},
   "outputs": [
    {
     "data": {
      "text/plain": [
       "1031"
      ]
     },
     "execution_count": 45,
     "metadata": {},
     "output_type": "execute_result"
    }
   ],
   "source": [
    "len(PG_Names)"
   ]
  },
  {
   "cell_type": "code",
   "execution_count": 46,
   "id": "2cb7496e",
   "metadata": {},
   "outputs": [
    {
     "data": {
      "text/plain": [
       "1031"
      ]
     },
     "execution_count": 46,
     "metadata": {},
     "output_type": "execute_result"
    }
   ],
   "source": [
    "len(Gender)"
   ]
  },
  {
   "cell_type": "code",
   "execution_count": 47,
   "id": "cc869462",
   "metadata": {},
   "outputs": [
    {
     "data": {
      "text/plain": [
       "1031"
      ]
     },
     "execution_count": 47,
     "metadata": {},
     "output_type": "execute_result"
    }
   ],
   "source": [
    "len(Single_Room)"
   ]
  },
  {
   "cell_type": "code",
   "execution_count": 48,
   "id": "df063735",
   "metadata": {},
   "outputs": [
    {
     "data": {
      "text/plain": [
       "1031"
      ]
     },
     "execution_count": 48,
     "metadata": {},
     "output_type": "execute_result"
    }
   ],
   "source": [
    "len(Twin_Sharing)"
   ]
  },
  {
   "cell_type": "code",
   "execution_count": 49,
   "id": "3da9afc0",
   "metadata": {},
   "outputs": [
    {
     "data": {
      "text/plain": [
       "1031"
      ]
     },
     "execution_count": 49,
     "metadata": {},
     "output_type": "execute_result"
    }
   ],
   "source": [
    "len(Triple_Sharing)"
   ]
  },
  {
   "cell_type": "code",
   "execution_count": 50,
   "id": "bdb6f40b",
   "metadata": {},
   "outputs": [
    {
     "data": {
      "text/plain": [
       "1031"
      ]
     },
     "execution_count": 50,
     "metadata": {},
     "output_type": "execute_result"
    }
   ],
   "source": [
    "len(Food)"
   ]
  },
  {
   "cell_type": "code",
   "execution_count": null,
   "id": "43d02d18",
   "metadata": {},
   "outputs": [],
   "source": [
    "PG_Names=[]\n",
    "Location = []\n",
    "Gender = []\n",
    "Single_Room = []\n",
    "Twin_Sharing = []\n",
    "Triple_Sharing = []\n",
    "Four_Sharing = []\n",
    "Food = []"
   ]
  },
  {
   "cell_type": "code",
   "execution_count": 53,
   "id": "c3980c57",
   "metadata": {},
   "outputs": [],
   "source": [
    "prop = {'PG_Names': PG_Names, 'Gender': Gender, 'Food': Food, 'Single_Room': Single_Room, 'Twin_Sharing': Twin_Sharing, 'Triple_Sharing': Triple_Sharing,\n",
    "        'Four_Sharing': Four_Sharing}"
   ]
  },
  {
   "cell_type": "code",
   "execution_count": 54,
   "id": "f4505bf5",
   "metadata": {},
   "outputs": [],
   "source": [
    "pg = pd.DataFrame(prop)"
   ]
  },
  {
   "cell_type": "code",
   "execution_count": 55,
   "id": "7a0b6db3",
   "metadata": {},
   "outputs": [
    {
     "data": {
      "text/html": [
       "<div>\n",
       "<style scoped>\n",
       "    .dataframe tbody tr th:only-of-type {\n",
       "        vertical-align: middle;\n",
       "    }\n",
       "\n",
       "    .dataframe tbody tr th {\n",
       "        vertical-align: top;\n",
       "    }\n",
       "\n",
       "    .dataframe thead th {\n",
       "        text-align: right;\n",
       "    }\n",
       "</style>\n",
       "<table border=\"1\" class=\"dataframe\">\n",
       "  <thead>\n",
       "    <tr style=\"text-align: right;\">\n",
       "      <th></th>\n",
       "      <th>PG_Names</th>\n",
       "      <th>Gender</th>\n",
       "      <th>Food</th>\n",
       "      <th>Single_Room</th>\n",
       "      <th>Twin_Sharing</th>\n",
       "      <th>Triple_Sharing</th>\n",
       "      <th>Four_Sharing</th>\n",
       "    </tr>\n",
       "  </thead>\n",
       "  <tbody>\n",
       "    <tr>\n",
       "      <th>0</th>\n",
       "      <td>Mahi Mens Luxury</td>\n",
       "      <td>Boys</td>\n",
       "      <td>Food Included</td>\n",
       "      <td>23,000</td>\n",
       "      <td>11,000</td>\n",
       "      <td>9,000</td>\n",
       "      <td>7,000</td>\n",
       "    </tr>\n",
       "    <tr>\n",
       "      <th>1</th>\n",
       "      <td>Green homes executive Men's and Women's</td>\n",
       "      <td>Coed</td>\n",
       "      <td>Food Charge extra</td>\n",
       "      <td>30,000</td>\n",
       "      <td>17,000</td>\n",
       "      <td>12,500</td>\n",
       "      <td>NaN</td>\n",
       "    </tr>\n",
       "    <tr>\n",
       "      <th>2</th>\n",
       "      <td>Tulasi Mens</td>\n",
       "      <td>Boys</td>\n",
       "      <td>Food Included</td>\n",
       "      <td>22,000</td>\n",
       "      <td>12,000</td>\n",
       "      <td>9,000</td>\n",
       "      <td>8,000</td>\n",
       "    </tr>\n",
       "    <tr>\n",
       "      <th>3</th>\n",
       "      <td>Sanjay</td>\n",
       "      <td>Coed</td>\n",
       "      <td>Food Included</td>\n",
       "      <td>10,000</td>\n",
       "      <td>8,000</td>\n",
       "      <td>6,000</td>\n",
       "      <td>NaN</td>\n",
       "    </tr>\n",
       "    <tr>\n",
       "      <th>4</th>\n",
       "      <td>Rajesh Bright Star Mens</td>\n",
       "      <td>Boys</td>\n",
       "      <td>Food Included</td>\n",
       "      <td>16,000</td>\n",
       "      <td>8,500</td>\n",
       "      <td>7,000</td>\n",
       "      <td>6,000</td>\n",
       "    </tr>\n",
       "    <tr>\n",
       "      <th>...</th>\n",
       "      <td>...</td>\n",
       "      <td>...</td>\n",
       "      <td>...</td>\n",
       "      <td>...</td>\n",
       "      <td>...</td>\n",
       "      <td>...</td>\n",
       "      <td>...</td>\n",
       "    </tr>\n",
       "    <tr>\n",
       "      <th>1026</th>\n",
       "      <td>Sri durga boys hostel</td>\n",
       "      <td>Boys</td>\n",
       "      <td>NaN</td>\n",
       "      <td>NaN</td>\n",
       "      <td>NaN</td>\n",
       "      <td>NaN</td>\n",
       "      <td>NaN</td>\n",
       "    </tr>\n",
       "    <tr>\n",
       "      <th>1027</th>\n",
       "      <td>Vinayaka boys hostel</td>\n",
       "      <td>Boys</td>\n",
       "      <td>NaN</td>\n",
       "      <td>NaN</td>\n",
       "      <td>NaN</td>\n",
       "      <td>NaN</td>\n",
       "      <td>NaN</td>\n",
       "    </tr>\n",
       "    <tr>\n",
       "      <th>1028</th>\n",
       "      <td>Sri Srinivas boys hostel</td>\n",
       "      <td>Boys</td>\n",
       "      <td>NaN</td>\n",
       "      <td>NaN</td>\n",
       "      <td>NaN</td>\n",
       "      <td>NaN</td>\n",
       "      <td>NaN</td>\n",
       "    </tr>\n",
       "    <tr>\n",
       "      <th>1029</th>\n",
       "      <td>Sai mahith guest-inn</td>\n",
       "      <td>Boys</td>\n",
       "      <td>NaN</td>\n",
       "      <td>NaN</td>\n",
       "      <td>3,900</td>\n",
       "      <td>3,900</td>\n",
       "      <td>NaN</td>\n",
       "    </tr>\n",
       "    <tr>\n",
       "      <th>1030</th>\n",
       "      <td>Tulasi Excutive</td>\n",
       "      <td>Boys</td>\n",
       "      <td>NaN</td>\n",
       "      <td>NaN</td>\n",
       "      <td>10,400</td>\n",
       "      <td>8,500</td>\n",
       "      <td>NaN</td>\n",
       "    </tr>\n",
       "  </tbody>\n",
       "</table>\n",
       "<p>1031 rows × 7 columns</p>\n",
       "</div>"
      ],
      "text/plain": [
       "                                      PG_Names Gender               Food  \\\n",
       "0                             Mahi Mens Luxury   Boys      Food Included   \n",
       "1      Green homes executive Men's and Women's   Coed  Food Charge extra   \n",
       "2                                  Tulasi Mens   Boys      Food Included   \n",
       "3                                       Sanjay   Coed      Food Included   \n",
       "4                      Rajesh Bright Star Mens   Boys      Food Included   \n",
       "...                                        ...    ...                ...   \n",
       "1026                     Sri durga boys hostel   Boys                NaN   \n",
       "1027                      Vinayaka boys hostel   Boys                NaN   \n",
       "1028                  Sri Srinivas boys hostel   Boys                NaN   \n",
       "1029                      Sai mahith guest-inn   Boys                NaN   \n",
       "1030                           Tulasi Excutive   Boys                NaN   \n",
       "\n",
       "     Single_Room Twin_Sharing Triple_Sharing Four_Sharing  \n",
       "0         23,000       11,000          9,000        7,000  \n",
       "1         30,000       17,000         12,500          NaN  \n",
       "2         22,000       12,000          9,000        8,000  \n",
       "3         10,000        8,000          6,000          NaN  \n",
       "4         16,000        8,500          7,000        6,000  \n",
       "...          ...          ...            ...          ...  \n",
       "1026         NaN          NaN            NaN          NaN  \n",
       "1027         NaN          NaN            NaN          NaN  \n",
       "1028         NaN          NaN            NaN          NaN  \n",
       "1029         NaN        3,900          3,900          NaN  \n",
       "1030         NaN       10,400          8,500          NaN  \n",
       "\n",
       "[1031 rows x 7 columns]"
      ]
     },
     "execution_count": 55,
     "metadata": {},
     "output_type": "execute_result"
    }
   ],
   "source": [
    "pg"
   ]
  },
  {
   "cell_type": "code",
   "execution_count": 56,
   "id": "5207aa6a",
   "metadata": {},
   "outputs": [],
   "source": [
    "pg.to_csv('D:/Datasets/project_data.csv')"
   ]
  },
  {
   "cell_type": "code",
   "execution_count": null,
   "id": "c39574a4",
   "metadata": {},
   "outputs": [],
   "source": []
  }
 ],
 "metadata": {
  "kernelspec": {
   "display_name": "Python 3 (ipykernel)",
   "language": "python",
   "name": "python3"
  },
  "language_info": {
   "codemirror_mode": {
    "name": "ipython",
    "version": 3
   },
   "file_extension": ".py",
   "mimetype": "text/x-python",
   "name": "python",
   "nbconvert_exporter": "python",
   "pygments_lexer": "ipython3",
   "version": "3.11.3"
  }
 },
 "nbformat": 4,
 "nbformat_minor": 5
}
